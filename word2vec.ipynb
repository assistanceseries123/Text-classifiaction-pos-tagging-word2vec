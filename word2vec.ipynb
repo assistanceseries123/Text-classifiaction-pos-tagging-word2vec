{
 "cells": [
  {
   "cell_type": "code",
   "execution_count": 1,
   "id": "1c368faa",
   "metadata": {},
   "outputs": [],
   "source": [
    "import numpy as np\n",
    "import pandas as pd\n",
    "import matplotlib.pyplot as plt\n",
    "import seaborn as sns\n",
    "%matplotlib inline"
   ]
  },
  {
   "cell_type": "code",
   "execution_count": 2,
   "id": "552a4e27",
   "metadata": {},
   "outputs": [],
   "source": [
    "tem_df=pd.read_csv('IMDB Dataset.csv')"
   ]
  },
  {
   "cell_type": "code",
   "execution_count": 3,
   "id": "f3b76de8",
   "metadata": {},
   "outputs": [
    {
     "data": {
      "text/html": [
       "<div>\n",
       "<style scoped>\n",
       "    .dataframe tbody tr th:only-of-type {\n",
       "        vertical-align: middle;\n",
       "    }\n",
       "\n",
       "    .dataframe tbody tr th {\n",
       "        vertical-align: top;\n",
       "    }\n",
       "\n",
       "    .dataframe thead th {\n",
       "        text-align: right;\n",
       "    }\n",
       "</style>\n",
       "<table border=\"1\" class=\"dataframe\">\n",
       "  <thead>\n",
       "    <tr style=\"text-align: right;\">\n",
       "      <th></th>\n",
       "      <th>review</th>\n",
       "      <th>sentiment</th>\n",
       "    </tr>\n",
       "  </thead>\n",
       "  <tbody>\n",
       "    <tr>\n",
       "      <th>0</th>\n",
       "      <td>One of the other reviewers has mentioned that ...</td>\n",
       "      <td>positive</td>\n",
       "    </tr>\n",
       "    <tr>\n",
       "      <th>1</th>\n",
       "      <td>A wonderful little production. &lt;br /&gt;&lt;br /&gt;The...</td>\n",
       "      <td>positive</td>\n",
       "    </tr>\n",
       "    <tr>\n",
       "      <th>2</th>\n",
       "      <td>I thought this was a wonderful way to spend ti...</td>\n",
       "      <td>positive</td>\n",
       "    </tr>\n",
       "    <tr>\n",
       "      <th>3</th>\n",
       "      <td>Basically there's a family where a little boy ...</td>\n",
       "      <td>negative</td>\n",
       "    </tr>\n",
       "    <tr>\n",
       "      <th>4</th>\n",
       "      <td>Petter Mattei's \"Love in the Time of Money\" is...</td>\n",
       "      <td>positive</td>\n",
       "    </tr>\n",
       "  </tbody>\n",
       "</table>\n",
       "</div>"
      ],
      "text/plain": [
       "                                              review sentiment\n",
       "0  One of the other reviewers has mentioned that ...  positive\n",
       "1  A wonderful little production. <br /><br />The...  positive\n",
       "2  I thought this was a wonderful way to spend ti...  positive\n",
       "3  Basically there's a family where a little boy ...  negative\n",
       "4  Petter Mattei's \"Love in the Time of Money\" is...  positive"
      ]
     },
     "execution_count": 3,
     "metadata": {},
     "output_type": "execute_result"
    }
   ],
   "source": [
    "tem_df.head()"
   ]
  },
  {
   "cell_type": "code",
   "execution_count": 5,
   "id": "757a48bb",
   "metadata": {},
   "outputs": [
    {
     "data": {
      "text/plain": [
       "418"
      ]
     },
     "execution_count": 5,
     "metadata": {},
     "output_type": "execute_result"
    }
   ],
   "source": [
    "tem_df.duplicated().sum()"
   ]
  },
  {
   "cell_type": "code",
   "execution_count": 6,
   "id": "bdddc02d",
   "metadata": {},
   "outputs": [],
   "source": [
    "tem_df.drop_duplicates(inplace=True)"
   ]
  },
  {
   "cell_type": "code",
   "execution_count": 7,
   "id": "8c964eb6",
   "metadata": {},
   "outputs": [],
   "source": [
    "import re\n",
    "def remove_tags(x):\n",
    "    cleaned_text=re.sub(re.compile('<.*?>'),'',x)\n",
    "    return cleaned_text\n"
   ]
  },
  {
   "cell_type": "code",
   "execution_count": 8,
   "id": "9f184cdc",
   "metadata": {},
   "outputs": [],
   "source": [
    "tem_df['review']=tem_df['review'].apply(remove_tags)"
   ]
  },
  {
   "cell_type": "code",
   "execution_count": 9,
   "id": "51a35a75",
   "metadata": {},
   "outputs": [],
   "source": [
    "tem_df['review']=tem_df['review'].apply(lambda x:x.lower())"
   ]
  },
  {
   "cell_type": "code",
   "execution_count": 10,
   "id": "f67e41a9",
   "metadata": {},
   "outputs": [],
   "source": [
    "from nltk.corpus import stopwords\n",
    "sw_list=stopwords.words('english')\n",
    "tem_df['review']=tem_df['review'].apply(lambda x:[item for item in x.split() if item not in sw_list]).apply(lambda x:\" \".join(x))"
   ]
  },
  {
   "cell_type": "code",
   "execution_count": 12,
   "id": "1d5fdeb8",
   "metadata": {},
   "outputs": [],
   "source": [
    "import gensim\n",
    "from gensim.utils import simple_preprocess\n",
    "from nltk.tokenize import sent_tokenize"
   ]
  },
  {
   "cell_type": "code",
   "execution_count": 13,
   "id": "b667e140",
   "metadata": {},
   "outputs": [],
   "source": [
    "story=[]\n",
    "for doc in tem_df['review']:\n",
    "    raw_sent=sent_tokenize(doc)\n",
    "    for sent in raw_sent:\n",
    "        story.append(simple_preprocess(sent))"
   ]
  },
  {
   "cell_type": "code",
   "execution_count": 14,
   "id": "344a269f",
   "metadata": {},
   "outputs": [],
   "source": [
    "model=gensim.models.Word2Vec(window=10,min_count=2)"
   ]
  },
  {
   "cell_type": "code",
   "execution_count": 16,
   "id": "ce3efb38",
   "metadata": {},
   "outputs": [],
   "source": [
    "model.build_vocab(story)"
   ]
  },
  {
   "cell_type": "code",
   "execution_count": 17,
   "id": "c45977cb",
   "metadata": {},
   "outputs": [
    {
     "data": {
      "text/plain": [
       "(29540101, 30891345)"
      ]
     },
     "execution_count": 17,
     "metadata": {},
     "output_type": "execute_result"
    }
   ],
   "source": [
    "model.train(story,total_examples=model.corpus_count,epochs=model.epochs)"
   ]
  },
  {
   "cell_type": "code",
   "execution_count": 18,
   "id": "45f552d2",
   "metadata": {},
   "outputs": [
    {
     "data": {
      "text/plain": [
       "61843"
      ]
     },
     "execution_count": 18,
     "metadata": {},
     "output_type": "execute_result"
    }
   ],
   "source": [
    "len(model.wv.index_to_key)"
   ]
  },
  {
   "cell_type": "code",
   "execution_count": 19,
   "id": "d740f50e",
   "metadata": {},
   "outputs": [],
   "source": [
    "def document(doc):\n",
    "    #remove out of vocabulary words\n",
    "    doc=[word for word in doc.split() if word in model.wv.index_to_key]\n",
    "    return np.mean(model.wv[doc],axis=0)"
   ]
  },
  {
   "cell_type": "code",
   "execution_count": 21,
   "id": "2c11497e",
   "metadata": {},
   "outputs": [
    {
     "data": {
      "text/plain": [
       "array([ 0.0040476 ,  0.3671775 ,  0.16372456, -0.11327665,  0.4337677 ,\n",
       "       -0.3908572 , -0.11353175,  0.51358724,  0.34204268, -0.07390527,\n",
       "        0.2864596 , -0.49708745,  0.38403988,  0.21840471, -0.05182619,\n",
       "       -0.11554765, -0.3129528 ,  0.11764617,  0.1128199 , -0.29158717,\n",
       "       -0.02593501,  0.14656602,  0.12091761,  0.10006158, -0.4176713 ,\n",
       "        0.01728558,  0.18331121,  0.07271238, -0.37685066, -0.41313067,\n",
       "        0.41407436,  0.14626533,  0.1253638 , -0.17696963, -0.23097716,\n",
       "        0.15838438, -0.0573775 , -0.21685043,  0.07592293, -0.33772695,\n",
       "        0.29515535, -0.23596753, -0.294794  , -0.412719  ,  0.03931681,\n",
       "       -0.12397474, -0.22806522,  0.00359492,  0.01576542,  0.19710214,\n",
       "        0.31236798, -0.14864914, -0.19133632, -0.61817694, -0.12563083,\n",
       "        0.27749112,  0.40750533, -0.44873896, -0.11579973,  0.23894909,\n",
       "        0.08677965,  0.14739074, -0.41777474, -0.09356087, -0.29719782,\n",
       "       -0.06351691, -0.32662496, -0.327905  , -0.00477651, -0.45260575,\n",
       "        0.2642797 , -0.00998506, -0.04596545,  0.05566303,  0.22665785,\n",
       "       -0.59705997,  0.11843842, -0.30669504, -0.32794765,  0.0694771 ,\n",
       "       -0.27896592, -0.34287304, -0.07626544,  0.03109592, -0.32182038,\n",
       "       -0.24000676,  0.6957345 , -0.24294962,  0.12909028, -0.11663439,\n",
       "        0.3936655 , -0.22981936,  0.4020772 , -0.00153006,  0.25463155,\n",
       "        0.42391145,  0.08910326, -0.11802592,  0.17708008,  0.25977966],\n",
       "      dtype=float32)"
      ]
     },
     "execution_count": 21,
     "metadata": {},
     "output_type": "execute_result"
    }
   ],
   "source": [
    "document(tem_df['review'].values[0])"
   ]
  },
  {
   "cell_type": "code",
   "execution_count": 22,
   "id": "5fc29d22",
   "metadata": {},
   "outputs": [],
   "source": [
    "from tqdm import tqdm"
   ]
  },
  {
   "cell_type": "code",
   "execution_count": 25,
   "id": "ec626dcb",
   "metadata": {},
   "outputs": [],
   "source": [
    "#x=[]\n",
    "#for doc in tqdm(tem_df['review'].values):\n",
    "    #x.append(document(doc))"
   ]
  },
  {
   "cell_type": "code",
   "execution_count": null,
   "id": "3638684c",
   "metadata": {},
   "outputs": [],
   "source": []
  }
 ],
 "metadata": {
  "kernelspec": {
   "display_name": "Python 3 (ipykernel)",
   "language": "python",
   "name": "python3"
  },
  "language_info": {
   "codemirror_mode": {
    "name": "ipython",
    "version": 3
   },
   "file_extension": ".py",
   "mimetype": "text/x-python",
   "name": "python",
   "nbconvert_exporter": "python",
   "pygments_lexer": "ipython3",
   "version": "3.10.1"
  }
 },
 "nbformat": 4,
 "nbformat_minor": 5
}
